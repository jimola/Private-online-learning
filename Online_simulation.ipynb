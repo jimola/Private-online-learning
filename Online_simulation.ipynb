{
 "cells": [
  {
   "cell_type": "markdown",
   "metadata": {},
   "source": [
    "[The Price of Differential Privacy for Online Learning](https://arxiv.org/pdf/1701.07953.pdf)"
   ]
  },
  {
   "cell_type": "code",
   "execution_count": 76,
   "metadata": {},
   "outputs": [],
   "source": [
    "import pdb"
   ]
  },
  {
   "cell_type": "code",
   "execution_count": 52,
   "metadata": {},
   "outputs": [],
   "source": [
    "\"\"\" Simulates exp2 online learning algorithm using expert predictions\n",
    "    \n",
    "    X - N by T matrix. Each column is the N expert's loss\n",
    "    learning_rate - \n",
    "    mixing_coef - \n",
    "\n",
    "\"\"\"\n",
    "def exp2_sim(X, learning_rate, mixing_coef, dist='unif'):\n",
    "    N, T = X.shape\n",
    "    q = np.ones(N) / N\n",
    "    if dist == 'unif':\n",
    "        mu = np.ones(N) / N\n",
    "    else:\n",
    "        raise Exception('Not implemented')\n",
    "        \n",
    "    losses = []\n",
    "    actions = []\n",
    "    for i in range(T):\n",
    "        p = (1-mixing_coef) * q + mixing_coef * mu\n",
    "        play = np.random.choice(N, 1, replace=True, p=p)\n",
    "        losses.append(X[play, i])\n",
    "        actions.append(play)\n",
    "        if p[play] == 0:\n",
    "            p_inv = 0\n",
    "        else:\n",
    "            p_inv = 1.0/p[play]\n",
    "        l = X[play, i] * p_inv\n",
    "        #pdb.set_trace()\n",
    "        q[play] *= np.exp(-l * learning_rate)\n",
    "        q /= q.sum()\n",
    "    return losses, actions"
   ]
  },
  {
   "cell_type": "code",
   "execution_count": 63,
   "metadata": {},
   "outputs": [],
   "source": [
    "#provides epsilon-DP\n",
    "def private_online_sim(X, eps):\n",
    "    N, T = X.shape\n",
    "    lam = 1.0/eps\n",
    "    X += np.random.laplace(0, lam, size=X.shape)\n",
    "    learning_rate = np.sqrt( np.log(N) / (2 * N * T * (1+2 * lam ** 2 * np.log(N * T))) )\n",
    "    mixing_coef = learning_rate * N * np.sqrt(1 + 2 * lam ** 2 * np.log(N * T))\n",
    "    return exp2_sim(X, learning_rate, mixing_coef, 'unif')"
   ]
  },
  {
   "cell_type": "code",
   "execution_count": 74,
   "metadata": {},
   "outputs": [],
   "source": [
    "losses, actions = private_online_sim(X, np.inf)\n",
    "losses_priv, actions_priv = private_online_sim(X, 1.0)"
   ]
  },
  {
   "cell_type": "code",
   "execution_count": 75,
   "metadata": {},
   "outputs": [
    {
     "data": {
      "text/plain": [
       "[<matplotlib.lines.Line2D at 0x7f76b0395048>]"
      ]
     },
     "execution_count": 75,
     "metadata": {},
     "output_type": "execute_result"
    },
    {
     "data": {
      "image/png": "[encoded data removed]",
      "text/plain": [
       "<Figure size 432x288 with 1 Axes>"
      ]
     },
     "metadata": {
      "needs_background": "light"
     },
     "output_type": "display_data"
    }
   ],
   "source": [
    "losses = np.array(losses)\n",
    "losses_priv = np.array(losses_priv)\n",
    "plt.plot(losses.cumsum())\n",
    "plt.plot(losses_priv.cumsum())"
   ]
  },
  {
   "cell_type": "code",
   "execution_count": null,
   "metadata": {},
   "outputs": [],
   "source": []
  }
 ],
 "metadata": {
  "kernelspec": {
   "display_name": "Python 3",
   "language": "python",
   "name": "python3"
  },
  "language_info": {
   "codemirror_mode": {
    "name": "ipython",
    "version": 3
   },
   "file_extension": ".py",
   "mimetype": "text/x-python",
   "name": "python",
   "nbconvert_exporter": "python",
   "pygments_lexer": "ipython3",
   "version": "3.6.7"
  }
 },
 "nbformat": 4,
 "nbformat_minor": 2
}
